{
  "nbformat": 4,
  "nbformat_minor": 0,
  "metadata": {
    "colab": {
      "provenance": []
    },
    "kernelspec": {
      "name": "python3",
      "display_name": "Python 3"
    },
    "language_info": {
      "name": "python"
    }
  },
  "cells": [
    {
      "cell_type": "code",
      "execution_count": null,
      "metadata": {
        "id": "ys7qF8mHlTYT"
      },
      "outputs": [],
      "source": [
        "from flask import Flask, request, jsonify\n",
        "import json\n",
        "import os\n",
        "\n",
        "app = Flask(__name__)\n",
        "\n",
        "# Load the existing inventory from file (if exists)\n",
        "inventory_file = 'inventory.json'\n",
        "if os.path.exists(inventory_file):\n",
        "    with open(inventory_file, 'r') as f:\n",
        "        inventory = json.load(f)\n",
        "else:\n",
        "    inventory = []\n",
        "\n",
        "# Route to upload a new clothing item\n",
        "@app.route('/upload-item', methods=['POST'])\n",
        "def upload_item():\n",
        "    item_data = request.json\n",
        "    inventory.append(item_data)\n",
        "\n",
        "    # Save the updated inventory to the file\n",
        "    with open(inventory_file, 'w') as f:\n",
        "        json.dump(inventory, f)\n",
        "\n",
        "    return jsonify({\"message\": \"Item uploaded successfully!\", \"inventory\": inventory})\n",
        "\n",
        "# Route to suggest outfits (based on simple rules)\n",
        "@app.route('/suggest-outfits', methods=['GET'])\n",
        "def suggest_outfits():\n",
        "    suggestions = []\n",
        "\n",
        "    # Simple example rule: suggest items based on season\n",
        "    current_season = request.args.get('season', 'all')  # Can pass season as query param\n",
        "\n",
        "    for item in inventory:\n",
        "        if current_season == 'all' or item['season'] == current_season:\n",
        "            suggestions.append(item)\n",
        "\n",
        "    return jsonify({\"suggestions\": suggestions})\n",
        "\n",
        "if __name__ == '__main__':\n",
        "    app.run(debug=True)\n"
      ]
    }
  ]
}